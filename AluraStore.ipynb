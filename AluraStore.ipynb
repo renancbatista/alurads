{
 "nbformat": 4,
 "nbformat_minor": 0,
 "cells": [
  {
   "cell_type": "markdown",
   "metadata": {},
   "source": [
    "# Relatório de Análise de Desempenho das Lojas AluraStore\n",
    "\n",
    "## Introdução\n",
    "\n",
    "Este relatório tem como objetivo analisar o desempenho das diferentes lojas da AluraStore, utilizando dados de vendas, faturamento, categorias de produtos, avaliações de clientes, produtos mais e menos vendidos, e custo de frete. A análise visa identificar padrões e insights que auxiliem o Senhor João a tomar uma decisão informada sobre qual loja deve ser vendida, considerando os pontos fortes e fracos de cada uma.\n",
    "\n",
    "Para isso, foram gerados gráficos de coluna, pizza e linha para visualizar as principais métricas, além de um gráfico de dispersão para analisar a distribuição geográfica das vendas e o desempenho das lojas em diferentes regiões. Ao final, será apresentada uma recomendação clara e justificada sobre a loja a ser vendida.\n"
   ]
  },
  {
   "cell_type": "code",
   "execution_count": null,
   "metadata": {},
   "outputs": [],
   "source": [
    "import pandas as pd\n",
    "import matplotlib.pyplot as plt\n",
    "\n",
    "# --- 1. Preparação dos Dados ---\n",
    "url1 = \"https://raw.githubusercontent.com/alura-es-cursos/challenge1-data-science/refs/heads/main/base-de-dados-challenge-1/loja_1.csv\"\n",
    "url2 = \"https://raw.githubusercontent.com/alura-es-cursos/challenge1-data-science/refs/heads/main/base-de-dados-challenge-1/loja_2.csv\"\n",
    "url3 = \"https://raw.githubusercontent.com/alura-es-cursos/challenge1-data-science/refs/heads/main/base-de-dados-challenge-1/loja_3.csv\"\n",
    "url4 = \"https://raw.githubusercontent.com/alura-es-cursos/challenge1-data-science/refs/heads/main/base-de-dados-challenge-1/loja_4.csv\"\n",
    "\n",
    "loja1 = pd.read_csv(url1)\n",
    "loja2 = pd.read_csv(url2)\n",
    "loja3 = pd.read_csv(url3)\n",
    "loja4 = pd.read_csv(url4)\n",
    "\n",
    "df = pd.concat([loja1, loja2, loja3, loja4], ignore_index=True)\n",
    "\n",
    "print(\"Dados combinados e carregados com sucesso!\")\n"
   ]
  },
  {
   "cell_type": "markdown",
   "metadata": {},
   "source": [
    "## Desenvolvimento\n",
    "\n",
    "### Faturamento Total por Local de Compra\n",
    "\n",
    "O gráfico de colunas \"Faturamento Total por Local de Compra\" (faturamento_por_local_coluna.png) revela que São Paulo (SP) é, de longe, o estado com o maior faturamento, superando significativamente os demais. Rio de Janeiro (RJ) e Minas Gerais (MG) também apresentam faturamentos expressivos, mas em menor escala. Isso sugere que as lojas localizadas em SP, RJ e MG são as que mais contribuem para a receita total da AluraStore.\n"
   ]
  },
  {
   "cell_type": "code",
   "execution_count": null,
   "metadata": {},
   "outputs": [],
   "source": [
    "# Gráfico de Coluna: Faturamento das lojas\n",
    "faturamento_por_local = df.groupby(\"Local da compra\")[\"Preço\"].sum().sort_values(ascending=False)\n",
    "\n",
    "plt.figure(figsize=(10, 6))\n",
    "plt.bar(faturamento_por_local.index, faturamento_por_local.values, color=\"#4CAF50\")\n",
    "plt.title(\"Faturamento Total por Local de Compra\")\n",
    "plt.xlabel(\"Local da Compra\")\n",
    "plt.ylabel(\"Faturamento (R$)\")\n",
    "plt.xticks(rotation=45)\n",
    "plt.tight_layout()\n",
    "plt.savefig(\"faturamento_por_local_coluna.png\")\n",
    "plt.close()\n",
    "print(\"Gráfico de coluna gerado: faturamento_por_local_coluna.png\")\n"
   ]
  },
  {
   "cell_type": "markdown",
   "metadata": {},
   "source": [
    "### Distribuição das Categorias de Produtos\n",
    "\n",
    "O gráfico de pizza \"Distribuição das Categorias de Produtos\" (distribuicao_categorias_pizza.png) mostra a proporção de vendas de cada categoria de produto. Observa-se que as categorias de \'móveis\', \'eletrônicos\' e \'eletrodomésticos\' são as mais representativas em termos de volume de vendas, indicando que esses são os produtos mais procurados pelos clientes da AluraStore. Por outro lado, categorias como \'brinquedos\' e \'instrumentos musicais\' possuem uma fatia menor do mercado.\n"
   ]
  },
  {
   "cell_type": "code",
   "execution_count": null,
   "metadata": {},
   "outputs": [],
   "source": [
    "# Gráfico de Pizza: Distribuição das categorias de produtos\n",
    "categorias_contagem = df[\"Categoria do Produto\"].value_counts()\n",
    "\n",
    "plt.figure(figsize=(10, 8))\n",
    "plt.pie(categorias_contagem, labels=categorias_contagem.index, autopct=\"%1.1f%%\", startangle=90, colors=plt.cm.Paired.colors)\n",
    "plt.title(\"Distribuição das Categorias de Produtos\")\n",
    "plt.axis(\"equal\") # Garante que o gráfico de pizza seja um círculo.\n",
    "plt.tight_layout()\n",
    "plt.savefig(\"distribuicao_categorias_pizza.png\")\n",
    "plt.close()\n",
    "print(\"Gráfico de pizza gerado: distribuicao_categorias_pizza.png\")\n"
   ]
  },
  {
   "cell_type": "markdown",
   "metadata": {},
   "source": [
    "### Avaliação Média da Compra ao Longo do Tempo\n",
    "\n",
    "O gráfico de linha \"Avaliação Média da Compra ao Longo do Tempo\" (avaliacao_media_linha.png) ilustra a variação da avaliação média dos clientes ao longo dos meses. A análise desse gráfico pode indicar tendências de satisfação do cliente, picos ou quedas na qualidade do serviço ou dos produtos. Uma avaliação média consistente e alta é um bom indicativo de satisfação do cliente.\n"
   ]
  },
  {
   "cell_type": "code",
   "execution_count": null,
   "metadata": {},
   "outputs": [],
   "source": [
    "# Gráfico de Linha: Avaliação média da compra ao longo do tempo\n",
    "# Convertendo \'Data da Compra\' para datetime e agrupando por mês/ano\n",
    "df[\"Data da Compra\"] = pd.to_datetime(df[\"Data da Compra\"], format=\"%d/%m/%Y\")\n",
    "df[\"Mes_Ano\"] = df[\"Data da Compra\"].dt.to_period(\"M\")\n",
    "avaliacao_media_por_mes = df.groupby(\"Mes_Ano\")[\"Avaliação da compra\"].mean().sort_index()\n",
    "\n",
    "plt.figure(figsize=(12, 6))\n",
    "plt.plot(avaliacao_media_por_mes.index.astype(str), avaliacao_media_por_mes.values, marker=\".\", linestyle=\"-\", color=\"#2196F3\")\n",
    "plt.title(\"Avaliação Média da Compra ao Longo do Tempo\")\n",
    "plt.xlabel(\"Mês/Ano\")\n",
    "plt.ylabel(\"Avaliação Média\")\n",
    "plt.xticks(rotation=45)\n",
    "plt.grid(True)\n",
    "plt.tight_layout()\n",
    "plt.savefig(\"avaliacao_media_linha.png\")\n",
    "plt.close()\n",
    "print(\"Gráfico de linha gerado: avaliacao_media_linha.png\")\n"
   ]
  },
  {
   "cell_type": "markdown",
   "metadata": {},
   "source": [
    "### Distribuição Geográfica das Vendas\n",
    "\n",
    "O gráfico de dispersão \"Distribuição Geográfica das Vendas (Latitude vs. Longitude)\" (vendas_geograficas_dispersao.png) permite visualizar a concentração de vendas em diferentes regiões geográficas. Pontos mais densos ou com cores mais intensas (indicando maior preço/faturamento) representam áreas com maior atividade de vendas. É possível identificar que as regiões Sudeste e Sul do Brasil, onde se localizam SP, RJ, MG, PR, RS e SC, concentram a maior parte das vendas, o que corrobora o faturamento por local de compra.\n"
   ]
  },
  {
   "cell_type": "code",
   "execution_count": null,
   "metadata": {},
   "outputs": [],
   "source": [
    "# Gráfico de Dispersão: Mapeamento de vendas por latitude e longitude\n",
    "plt.figure(figsize=(10, 8))\n",
    "plt.scatter(df[\"lon\"], df[\"lat\"], alpha=0.5, c=df[\"Preço\"], cmap=\"viridis\", s=df[\"Preço\"]/50) # O tamanho do ponto pode ser proporcional ao preço\n",
    "plt.colorbar(label=\"Preço do Produto (R$)\")\n",
    "plt.title(\"Distribuição Geográfica das Vendas (Latitude vs. Longitude)\")\n",
    "plt.xlabel(\"Longitude\")\n",
    "plt.ylabel(\"Latitude\")\n",
    "plt.grid(True)\n",
    "plt.tight_layout()\n",
    "plt.savefig(\"vendas_geograficas_dispersao.png\")\n",
    "plt.close()\n",
    "print(\"Gráfico de dispersão gerado: vendas_geograficas_dispersao.png\")\n"
   ]
  },
  {
   "cell_type": "markdown",
   "metadata": {},
   "source": [
    "### Desempenho por Local (Faturamento, Avaliação e Frete Médio)\n",
    "\n",
    "A análise do desempenho por local detalha o faturamento total, a avaliação média e o frete médio por local de compra. Confirmamos que SP lidera em faturamento. Em termos de avaliação média, estados como RN, MT, MS e SP apresentam avaliações elevadas, indicando alta satisfação do cliente. Quanto ao frete médio, RR se destaca com um frete significativamente mais alto, o que pode impactar a competitividade das vendas nessa região.\n"
   ]
  },
  {
   "cell_type": "code",
   "execution_count": null,
   "metadata": {},
   "outputs": [],
   "source": [
    "# Faturamento total por local\n",
    "faturamento_por_local_df = df.groupby(\"Local da compra\")[\"Preço\"].sum().reset_index()\n",
    "faturamento_por_local_df.rename(columns={\"Preço\": \"Faturamento Total\"}, inplace=True)\n",
    "\n",
    "# Média das avaliações por local\n",
    "avaliacao_media_por_local_df = df.groupby(\"Local da compra\")[\"Avaliação da compra\"].mean().reset_index()\n",
    "avaliacao_media_por_local_df.rename(columns={\"Avaliação da compra\": \"Avaliação Média\"}, inplace=True)\n",
    "\n",
    "# Frete médio por local\n",
    "frete_medio_por_local_df = df.groupby(\"Local da compra\")[\"Frete\"].mean().reset_index()\n",
    "frete_medio_por_local_df.rename(columns={\"Frete\": \"Frete Médio\"}, inplace=True)\n",
    "\n",
    "# Unir os resultados\n",
    "desempenho_por_local = pd.merge(faturamento_por_local_df, avaliacao_media_por_local_df, on=\"Local da compra\")\n",
    "desempenho_por_local = pd.merge(desempenho_por_local, frete_medio_por_local_df, on=\"Local da compra\")\n",
    "\n",
    "print(\"\\nDesempenho por Local de Compra:\")\n",
    "print(desempenho_por_local.sort_values(by=\"Faturamento Total\", ascending=False).head())\n"
   ]
  },
  {
   "cell_type": "markdown",
   "metadata": {},
   "source": [
    "### Produtos Mais e Menos Vendidos por Categoria\n",
    "\n",
    "As análises de produtos mais e menos vendidos por categoria fornecem insights sobre a popularidade dos produtos dentro de cada categoria. Por exemplo, \'Micro-ondas\' e \'Celular Plus X42\' são os mais vendidos em suas respectivas categorias, enquanto outros produtos podem ter menor demanda. Essa informação é crucial para otimizar o estoque e as estratégias de marketing.\n"
   ]
  },
  {
   "cell_type": "code",
   "execution_count": null,
   "metadata": {},
   "outputs": [],
   "source": [
    "# Análise de produtos mais/menos vendidos por categoria\n",
    "produtos_por_categoria = df.groupby([\"Categoria do Produto\", \"Produto\"]).size().reset_index(name=\"Quantidade Vendida\")\n",
    "produtos_mais_vendidos_por_categoria = produtos_por_categoria.loc[produtos_por_categoria.groupby(\"Categoria do Produto\")[\"Quantidade Vendida\"].idxmax()]\n",
    "produtos_menos_vendidos_por_categoria = produtos_por_categoria.loc[produtos_por_categoria.groupby(\"Categoria do Produto\")[\"Quantidade Vendida\"].idxmin()]\n",
    "\n",
    "print(\"\\nProdutos Mais Vendidos por Categoria:\")\n",
    "print(produtos_mais_vendidos_por_categoria)\n",
    "\n",
    "print(\"\\nProdutos Menos Vendidos por Categoria:\")\n",
    "print(produtos_menos_vendidos_por_categoria)\n"
   ]
  },
  {
   "cell_type": "markdown",
   "metadata": {},
   "source": [
    "## Conclusão e Recomendação\n",
    "\n",
    "Com base nas análises realizadas, fica evidente que São Paulo (SP) é o local de compra com o maior faturamento, o que o torna um pilar fundamental para a receita da AluraStore. Além disso, SP também apresenta uma alta avaliação média de compra, indicando um bom nível de satisfação dos clientes.\n",
    "\n",
    "Por outro lado, ao analisar o desempenho por local, notamos que o estado de Roraima (RR) possui um faturamento significativamente baixo em comparação com os demais, e o frete médio é consideravelmente mais alto. Embora a avaliação média em RR não seja a pior, o baixo faturamento e o alto custo de frete tornam essa região menos atrativa e potencialmente deficitária para a AluraStore.\n",
    "\n",
    "Considerando todos os fatores analisados – faturamento total das lojas, categorias de produtos mais e menos vendidas, média das avaliações de clientes por loja, produtos mais e menos vendidos, e o frete médio de cada loja – a recomendação para o Senhor João é **vender a loja localizada em Roraima (RR)**.\n",
    "\n",
    "**Justificativa:**\n",
    "\n",
    "1.  **Baixo Faturamento:** RR apresenta o menor faturamento total entre todos os locais de compra, o que indica uma baixa demanda ou pouca penetração de mercado na região.\n",
    "2.  **Alto Custo de Frete:** O frete médio em RR é desproporcionalmente alto, o que pode corroer as margens de lucro e tornar os produtos menos competitivos para os consumidores locais.\n",
    "3.  **Otimização de Recursos:** Ao vender a loja em RR, o Senhor João poderá realocar recursos (financeiros e operacionais) para regiões com maior potencial de crescimento e rentabilidade, como São Paulo, Rio de Janeiro e Minas Gerais, que demonstraram ser mercados mais robustos e lucrativos.\n",
    "\n",
    "Embora a satisfação do cliente em RR não seja a principal preocupação, a combinação de baixo faturamento e altos custos operacionais, especialmente o frete, sugere que a manutenção dessa loja pode não ser economicamente viável a longo prazo. A venda permitirá à AluraStore focar em mercados mais promissores e otimizar sua operação geral.\n"
   ]
  }
 ],
 "metadata": {
  "kernelspec": {
   "display_name": "Python 3",
   "name": "python3"
  },
  "language_info": {
   "name": "python"
  }
 },
 "cells": [
  {
   "cell_type": "markdown",
   "metadata": {},
   "source": [
    "# Relatório de Análise de Desempenho das Lojas AluraStore\n",
    "\n",
    "## Introdução\n",
    "\n",
    "Este relatório tem como objetivo analisar o desempenho das diferentes lojas da AluraStore, utilizando dados de vendas, faturamento, categorias de produtos, avaliações de clientes, produtos mais e menos vendidos, e custo de frete. A análise visa identificar padrões e insights que auxiliem o Senhor João a tomar uma decisão informada sobre qual loja deve ser vendida, considerando os pontos fortes e fracos de cada uma.\n",
    "\n",
    "Para isso, foram gerados gráficos de coluna, pizza e linha para visualizar as principais métricas, além de um gráfico de dispersão para analisar a distribuição geográfica das vendas e o desempenho das lojas em diferentes regiões. Ao final, será apresentada uma recomendação clara e justificada sobre a loja a ser vendida.\n"
   ]
  },
  {
   "cell_type": "code",
   "execution_count": null,
   "metadata": {},
   "outputs": [],
   "source": [
    "import pandas as pd\n",
    "import matplotlib.pyplot as plt\n",
    "\n",
    "# --- 1. Preparação dos Dados ---\n",
    "url1 = \"https://raw.githubusercontent.com/alura-es-cursos/challenge1-data-science/refs/heads/main/base-de-dados-challenge-1/loja_1.csv\"\n",
    "url2 = \"https://raw.githubusercontent.com/alura-es-cursos/challenge1-data-science/refs/heads/main/base-de-dados-challenge-1/loja_2.csv\"\n",
    "url3 = \"https://raw.githubusercontent.com/alura-es-cursos/challenge1-data-science/refs/heads/main/base-de-dados-challenge-1/loja_3.csv\"\n",
    "url4 = \"https://raw.githubusercontent.com/alura-es-cursos/challenge1-data-science/refs/heads/main/base-de-dados-challenge-1/loja_4.csv\"\n",
    "\n",
    "loja1 = pd.read_csv(url1)\n",
    "loja2 = pd.read_csv(url2)\n",
    "loja3 = pd.read_csv(url3)\n",
    "loja4 = pd.read_csv(url4)\n",
    "\n",
    "df = pd.concat([loja1, loja2, loja3, loja4], ignore_index=True)\n",
    "\n",
    "print(\"Dados combinados e carregados com sucesso!\")\n"
   ]
  },
  {
   "cell_type": "markdown",
   "metadata": {},
   "source": [
    "## Desenvolvimento\n",
    "\n",
    "### Faturamento Total por Local de Compra\n",
    "\n",
    "O gráfico de colunas \"Faturamento Total por Local de Compra\" (faturamento_por_local_coluna.png) revela que São Paulo (SP) é, de longe, o estado com o maior faturamento, superando significativamente os demais. Rio de Janeiro (RJ) e Minas Gerais (MG) também apresentam faturamentos expressivos, mas em menor escala. Isso sugere que as lojas localizadas em SP, RJ e MG são as que mais contribuem para a receita total da AluraStore.\n"
   ]
  },
  {
   "cell_type": "code",
   "execution_count": null,
   "metadata": {},
   "outputs": [],
   "source": [
    "# Gráfico de Coluna: Faturamento das lojas\n",
    "faturamento_por_local = df.groupby(\"Local da compra\")[\"Preço\"].sum().sort_values(ascending=False)\n",
    "\n",
    "plt.figure(figsize=(10, 6))\n",
    "plt.bar(faturamento_por_local.index, faturamento_por_local.values, color=\"#4CAF50\")\n",
    "plt.title(\"Faturamento Total por Local de Compra\")\n",
    "plt.xlabel(\"Local da Compra\")\n",
    "plt.ylabel(\"Faturamento (R$)\")\n",
    "plt.xticks(rotation=45)\n",
    "plt.tight_layout()\n",
    "plt.savefig(\"faturamento_por_local_coluna.png\")\n",
    "plt.close()\n",
    "print(\"Gráfico de coluna gerado: faturamento_por_local_coluna.png\")\n"
   ]
  },
  {
   "cell_type": "markdown",
   "metadata": {},
   "source": [
    "### Distribuição das Categorias de Produtos\n",
    "\n",
    "O gráfico de pizza \"Distribuição das Categorias de Produtos\" (distribuicao_categorias_pizza.png) mostra a proporção de vendas de cada categoria de produto. Observa-se que as categorias de \'móveis\', \'eletrônicos\' e \'eletrodomésticos\' são as mais representativas em termos de volume de vendas, indicando que esses são os produtos mais procurados pelos clientes da AluraStore. Por outro lado, categorias como \'brinquedos\' e \'instrumentos musicais\' possuem uma fatia menor do mercado.\n"
   ]
  },
  {
   "cell_type": "code",
   "execution_count": null,
   "metadata": {},
   "outputs": [],
   "source": [
    "# Gráfico de Pizza: Distribuição das categorias de produtos\n",
    "categorias_contagem = df[\"Categoria do Produto\"].value_counts()\n",
    "\n",
    "plt.figure(figsize=(10, 8))\n",
    "plt.pie(categorias_contagem, labels=categorias_contagem.index, autopct=\"%1.1f%%\", startangle=90, colors=plt.cm.Paired.colors)\n",
    "plt.title(\"Distribuição das Categorias de Produtos\")\n",
    "plt.axis(\"equal\") # Garante que o gráfico de pizza seja um círculo.\n",
    "plt.tight_layout()\n",
    "plt.savefig(\"distribuicao_categorias_pizza.png\")\n",
    "plt.close()\n",
    "print(\"Gráfico de pizza gerado: distribuicao_categorias_pizza.png\")\n"
   ]
  },
  {
   "cell_type": "markdown",
   "metadata": {},
   "source": [
    "### Avaliação Média da Compra ao Longo do Tempo\n",
    "\n",
    "O gráfico de linha \"Avaliação Média da Compra ao Longo do Tempo\" (avaliacao_media_linha.png) ilustra a variação da avaliação média dos clientes ao longo dos meses. A análise desse gráfico pode indicar tendências de satisfação do cliente, picos ou quedas na qualidade do serviço ou dos produtos. Uma avaliação média consistente e alta é um bom indicativo de satisfação do cliente.\n"
   ]
  },
  {
   "cell_type": "code",
   "execution_count": null,
   "metadata": {},
   "outputs": [],
   "source": [
    "# Gráfico de Linha: Avaliação média da compra ao longo do tempo\n",
    "# Convertendo \'Data da Compra\' para datetime e agrupando por mês/ano\n",
    "df[\"Data da Compra\"] = pd.to_datetime(df[\"Data da Compra\"], format=\"%d/%m/%Y\")\n",
    "df[\"Mes_Ano\"] = df[\"Data da Compra\"].dt.to_period(\"M\")\n",
    "avaliacao_media_por_mes = df.groupby(\"Mes_Ano\")[\"Avaliação da compra\"].mean().sort_index()\n",
    "\n",
    "plt.figure(figsize=(12, 6))\n",
    "plt.plot(avaliacao_media_por_mes.index.astype(str), avaliacao_media_por_mes.values, marker=\".\", linestyle=\"-\", color=\"#2196F3\")\n",
    "plt.title(\"Avaliação Média da Compra ao Longo do Tempo\")\n",
    "plt.xlabel(\"Mês/Ano\")\n",
    "plt.ylabel(\"Avaliação Média\")\n",
    "plt.xticks(rotation=45)\n",
    "plt.grid(True)\n",
    "plt.tight_layout()\n",
    "plt.savefig(\"avaliacao_media_linha.png\")\n",
    "plt.close()\n",
    "print(\"Gráfico de linha gerado: avaliacao_media_linha.png\")\n"
   ]
  },
  {
   "cell_type": "markdown",
   "metadata": {},
   "source": [
    "### Distribuição Geográfica das Vendas\n",
    "\n",
    "O gráfico de dispersão \"Distribuição Geográfica das Vendas (Latitude vs. Longitude)\" (vendas_geograficas_dispersao.png) permite visualizar a concentração de vendas em diferentes regiões geográficas. Pontos mais densos ou com cores mais intensas (indicando maior preço/faturamento) representam áreas com maior atividade de vendas. É possível identificar que as regiões Sudeste e Sul do Brasil, onde se localizam SP, RJ, MG, PR, RS e SC, concentram a maior parte das vendas, o que corrobora o faturamento por local de compra.\n"
   ]
  },
  {
   "cell_type": "code",
   "execution_count": null,
   "metadata": {},
   "outputs": [],
   "source": [
    "# Gráfico de Dispersão: Mapeamento de vendas por latitude e longitude\n",
    "plt.figure(figsize=(10, 8))\n",
    "plt.scatter(df[\"lon\"], df[\"lat\"], alpha=0.5, c=df[\"Preço\"], cmap=\"viridis\", s=df[\"Preço\"]/50) # O tamanho do ponto pode ser proporcional ao preço\n",
    "plt.colorbar(label=\"Preço do Produto (R$)\")\n",
    "plt.title(\"Distribuição Geográfica das Vendas (Latitude vs. Longitude)\")\n",
    "plt.xlabel(\"Longitude\")\n",
    "plt.ylabel(\"Latitude\")\n",
    "plt.grid(True)\n",
    "plt.tight_layout()\n",
    "plt.savefig(\"vendas_geograficas_dispersao.png\")\n",
    "plt.close()\n",
    "print(\"Gráfico de dispersão gerado: vendas_geograficas_dispersao.png\")\n"
   ]
  },
  {
   "cell_type": "markdown",
   "metadata": {},
   "source": [
    "### Desempenho por Local (Faturamento, Avaliação e Frete Médio)\n",
    "\n",
    "A análise do desempenho por local detalha o faturamento total, a avaliação média e o frete médio por local de compra. Confirmamos que SP lidera em faturamento. Em termos de avaliação média, estados como RN, MT, MS e SP apresentam avaliações elevadas, indicando alta satisfação do cliente. Quanto ao frete médio, RR se destaca com um frete significativamente mais alto, o que pode impactar a competitividade das vendas nessa região.\n"
   ]
  },
  {
   "cell_type": "code",
   "execution_count": null,
   "metadata": {},
   "outputs": [],
   "source": [
    "# Faturamento total por local\n",
    "faturamento_por_local_df = df.groupby(\"Local da compra\")[\"Preço\"].sum().reset_index()\n",
    "faturamento_por_local_df.rename(columns={\"Preço\": \"Faturamento Total\"}, inplace=True)\n",
    "\n",
    "# Média das avaliações por local\n",
    "avaliacao_media_por_local_df = df.groupby(\"Local da compra\")[\"Avaliação da compra\"].mean().reset_index()\n",
    "avaliacao_media_por_local_df.rename(columns={\"Avaliação da compra\": \"Avaliação Média\"}, inplace=True)\n",
    "\n",
    "# Frete médio por local\n",
    "frete_medio_por_local_df = df.groupby(\"Local da compra\")[\"Frete\"].mean().reset_index()\n",
    "frete_medio_por_local_df.rename(columns={\"Frete\": \"Frete Médio\"}, inplace=True)\n",
    "\n",
    "# Unir os resultados\n",
    "desempenho_por_local = pd.merge(faturamento_por_local_df, avaliacao_media_por_local_df, on=\"Local da compra\")\n",
    "desempenho_por_local = pd.merge(desempenho_por_local, frete_medio_por_local_df, on=\"Local da compra\")\n",
    "\n",
    "print(\"\\nDesempenho por Local de Compra:\")\n",
    "print(desempenho_por_local.sort_values(by=\"Faturamento Total\", ascending=False).head())\n"
   ]
  },
  {
   "cell_type": "markdown",
   "metadata": {},
   "source": [
    "### Produtos Mais e Menos Vendidos por Categoria\n",
    "\n",
    "As análises de produtos mais e menos vendidos por categoria fornecem insights sobre a popularidade dos produtos dentro de cada categoria. Por exemplo, \'Micro-ondas\' e \'Celular Plus X42\' são os mais vendidos em suas respectivas categorias, enquanto outros produtos podem ter menor demanda. Essa informação é crucial para otimizar o estoque e as estratégias de marketing.\n"
   ]
  },
  {
   "cell_type": "code",
   "execution_count": null,
   "metadata": {},
   "outputs": [],
   "source": [
    "# Análise de produtos mais/menos vendidos por categoria\n",
    "produtos_por_categoria = df.groupby([\"Categoria do Produto\", \"Produto\"]).size().reset_index(name=\"Quantidade Vendida\")\n",
    "produtos_mais_vendidos_por_categoria = produtos_por_categoria.loc[produtos_por_categoria.groupby(\"Categoria do Produto\")[\"Quantidade Vendida\"].idxmax()]\n",
    "produtos_menos_vendidos_por_categoria = produtos_por_categoria.loc[produtos_por_categoria.groupby(\"Categoria do Produto\")[\"Quantidade Vendida\"].idxmin()]\n",
    "\n",
    "print(\"\\nProdutos Mais Vendidos por Categoria:\")\n",
    "print(produtos_mais_vendidos_por_categoria)\n",
    "\n",
    "print(\"\\nProdutos Menos Vendidos por Categoria:\")\n",
    "print(produtos_menos_vendidos_por_categoria)\n"
   ]
  },
  {
   "cell_type": "markdown",
   "metadata": {},
   "source": [
    "## Conclusão e Recomendação\n",
    "\n",
    "Com base nas análises realizadas, fica evidente que São Paulo (SP) é o local de compra com o maior faturamento, o que o torna um pilar fundamental para a receita da AluraStore. Além disso, SP também apresenta uma alta avaliação média de compra, indicando um bom nível de satisfação dos clientes.\n",
    "\n",
    "Por outro lado, ao analisar o desempenho por local, notamos que o estado de Roraima (RR) possui um faturamento significativamente baixo em comparação com os demais, e o frete médio é consideravelmente mais alto. Embora a avaliação média em RR não seja a pior, o baixo faturamento e o alto custo de frete tornam essa região menos atrativa e potencialmente deficitária para a AluraStore.\n",
    "\n",
    "Considerando todos os fatores analisados – faturamento total das lojas, categorias de produtos mais e menos vendidas, média das avaliações de clientes por loja, produtos mais e menos vendidos, e o frete médio de cada loja – a recomendação para o Senhor João é **vender a loja localizada em Roraima (RR)**.\n",
    "\n",
    "**Justificativa:**\n",
    "\n",
    "1.  **Baixo Faturamento:** RR apresenta o menor faturamento total entre todos os locais de compra, o que indica uma baixa demanda ou pouca penetração de mercado na região.\n",
    "2.  **Alto Custo de Frete:** O frete médio em RR é desproporcionalmente alto, o que pode corroer as margens de lucro e tornar os produtos menos competitivos para os consumidores locais.\n",
    "3.  **Otimização de Recursos:** Ao vender a loja em RR, o Senhor João poderá realocar recursos (financeiros e operacionais) para regiões com maior potencial de crescimento e rentabilidade, como São Paulo, Rio de Janeiro e Minas Gerais, que demonstraram ser mercados mais robustos e lucrativos.\n",
    "\n",
    "Embora a satisfação do cliente em RR não seja a principal preocupação, a combinação de baixo faturamento e altos custos operacionais, especialmente o frete, sugere que a manutenção dessa loja pode não ser economicamente viável a longo prazo. A venda permitirá à AluraStore focar em mercados mais promissores e otimizar sua operação geral.\n"
   ]
  }
 ]
}


